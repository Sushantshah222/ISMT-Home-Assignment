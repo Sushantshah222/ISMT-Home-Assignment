{
 "cells": [
  {
   "cell_type": "code",
   "execution_count": 15,
   "id": "d9b52733-8ffe-4741-a014-9656e78e2a39",
   "metadata": {},
   "outputs": [
    {
     "name": "stdout",
     "output_type": "stream",
     "text": [
      "sum of first 10 positive integers is 1\n",
      "sum of first 10 positive integers is 3\n",
      "sum of first 10 positive integers is 6\n",
      "sum of first 10 positive integers is 10\n",
      "sum of first 10 positive integers is 15\n",
      "sum of first 10 positive integers is 21\n",
      "sum of first 10 positive integers is 28\n",
      "sum of first 10 positive integers is 36\n",
      "sum of first 10 positive integers is 45\n",
      "sum of first 10 positive integers is 55\n"
     ]
    }
   ],
   "source": [
    "#Create a list of the first 10 positive integers. Write a for loop that calculates and prints the sum of all numbers in the list.\n",
    "\n",
    "\n",
    "numbers=list(range(1,11))\n",
    "total_sum=0\n",
    "for number in numbers:\n",
    "    total_sum+=number\n",
    "    print(\"sum of first 10 positive integers is\", total_sum)"
   ]
  },
  {
   "cell_type": "code",
   "execution_count": 84,
   "id": "81552f71-79f5-4a29-8dc4-ec136dccc078",
   "metadata": {},
   "outputs": [
    {
     "name": "stdout",
     "output_type": "stream",
     "text": [
      "1. inception\n",
      "2. The mattrix\n",
      "3. interseller\n",
      "4. The Dark Knight\n"
     ]
    }
   ],
   "source": [
    "#Create a list of your five favorite movies. Write a for loop that prints each movie along with its position in the list (e.g., \"1. Inception\").\n",
    "\n",
    "\n",
    "favourite_movies=(\"inception\",\"The mattrix\",\"interseller\",\"The Dark Knight\")\n",
    "for index, movie in enumerate(favourite_movies,start=1):\n",
    "    print(f\"{index}. {movie}\")"
   ]
  },
  {
   "cell_type": "code",
   "execution_count": 88,
   "id": "0f752c73-a169-44e4-a87b-6fa20d2b6739",
   "metadata": {},
   "outputs": [
    {
     "name": "stdout",
     "output_type": "stream",
     "text": [
      "2.2\n",
      "4.4\n",
      "6.6\n",
      "8.8\n",
      "11.0\n"
     ]
    }
   ],
   "source": [
    "#Given a list of strings representing decimal numbers (e.g., ['1.1', '2.2', '3.3']), write a for loop that converts each string to a float, doubles the value, and prints the result.\n",
    "\n",
    "\n",
    "deci_strings=('1.1','2.2','3.3','4.4','5.5')\n",
    "for deci_string in dec_strings:\n",
    "    number=float(deci_string)\n",
    "    doubled_value =number*2\n",
    "    print(doubled_value)"
   ]
  },
  {
   "cell_type": "code",
   "execution_count": 89,
   "id": "8d08a1dd-76b2-405a-9d28-e759f95df3eb",
   "metadata": {},
   "outputs": [
    {
     "name": "stdout",
     "output_type": "stream",
     "text": [
      "['1', '2', '3', '4', '5', '6', '7', '8', '9', '10', '11', '12', '13', '14', '15', '16', '17', '18', '19', '20']\n"
     ]
    }
   ],
   "source": [
    "#. Create a list of numbers from 1 to 20. Write a for loop that iterates through the list, converts each number to a string, and creates a new list with these string values. Print the new list.\n",
    "\n",
    "\n",
    "numbers = list(range(1, 20+1))\n",
    "string_numbers = []\n",
    "for number in numbers:\n",
    "    string_numbers.append(str(number))\n",
    "print(string_numbers)\n"
   ]
  },
  {
   "cell_type": "code",
   "execution_count": 13,
   "id": "459546dd-b43c-4fb4-859d-25a5dec249df",
   "metadata": {},
   "outputs": [
    {
     "name": "stdin",
     "output_type": "stream",
     "text": [
      "Enter your name:  asha\n",
      "Enter your name:  dipa\n",
      "Enter your name:  sita\n",
      "Enter your name:  avi\n",
      "Enter your name:  s\n",
      "Enter your name:  ram\n",
      "Enter your name:  hari\n",
      "Enter your name:  shyam\n",
      "Enter your name:  dikshya\n",
      "Enter your name:  nitu\n"
     ]
    },
    {
     "name": "stdout",
     "output_type": "stream",
     "text": [
      "Names start with 'a' or 'A':\n",
      "asha\n",
      "avi\n"
     ]
    }
   ],
   "source": [
    " #⁠WAP that asks 10 user with their name and store them in a list. Print the name of only those users whose name starts with ‘a’ or ‘A’\n",
    "\n",
    "names = []\n",
    "for _ in range(10):\n",
    "    name = input(\"Enter your name: \")\n",
    "    names.append(name)\n",
    "print(\"Names start with 'a' or 'A':\")\n",
    "for name in names:\n",
    "    if name.lower().startswith('a'):\n",
    "        print(name)\n"
   ]
  },
  {
   "cell_type": "code",
   "execution_count": null,
   "id": "35dd17d9-ed6a-4be9-b3e0-dc2cbf148839",
   "metadata": {},
   "outputs": [
    {
     "name": "stdin",
     "output_type": "stream",
     "text": [
      "Enter your name:  ram\n",
      "Enter your name:  hari\n",
      "Enter your name:  sita\n",
      "Enter your name:  dipa\n",
      "Enter your name:  lita\n",
      "Enter your name:  nita\n",
      "Enter your name:  dev\n",
      "Enter your name:  sambhu\n"
     ]
    }
   ],
   "source": [
    "# ⁠WAP that asks 10 user with their name and store them in a list. Print the name of only those users whose name ends with ‘a’ or ‘A’\n",
    "names = []\n",
    "for _ in range(10):\n",
    "    name = input(\"Enter your name: \")\n",
    "    names.append(name)\n",
    "print(\"Names ends with 'a' or 'A':\")\n",
    "for name in names:\n",
    "    if name.lower().endswith('a'):\n",
    "        print(name)\n"
   ]
  },
  {
   "cell_type": "code",
   "execution_count": null,
   "id": "948c3659-977b-44f6-9749-b1f9bbcd34e4",
   "metadata": {},
   "outputs": [],
   "source": []
  }
 ],
 "metadata": {
  "kernelspec": {
   "display_name": "Python 3 (ipykernel)",
   "language": "python",
   "name": "python3"
  },
  "language_info": {
   "codemirror_mode": {
    "name": "ipython",
    "version": 3
   },
   "file_extension": ".py",
   "mimetype": "text/x-python",
   "name": "python",
   "nbconvert_exporter": "python",
   "pygments_lexer": "ipython3",
   "version": "3.12.3"
  }
 },
 "nbformat": 4,
 "nbformat_minor": 5
}
